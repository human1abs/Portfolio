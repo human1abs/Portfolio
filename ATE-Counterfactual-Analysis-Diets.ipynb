{
  "cells": [
    {
      "cell_type": "markdown",
      "metadata": {
        "id": "view-in-github",
        "colab_type": "text"
      },
      "source": [
        "<a href=\"https://colab.research.google.com/github/human1abs/portfolio/blob/main/ATE-Counterfactual-Analysis-Diets.ipynb\" target=\"_parent\"><img src=\"https://colab.research.google.com/assets/colab-badge.svg\" alt=\"Open In Colab\"/></a>"
      ]
    },
    {
      "cell_type": "markdown",
      "id": "19de9540",
      "metadata": {
        "id": "19de9540"
      },
      "source": [
        "# Diet and Weight Loss - Estimation of Causal Effect and Counterfactual Analysis\n",
        "\n",
        "There are two kinds of methods for data imputation - purely statistical and based on causal analysis. In the following, I am going to demonstrate how the choice if imputation strategy can influence our models.\n"
      ]
    },
    {
      "cell_type": "code",
      "execution_count": null,
      "id": "505e4e2a",
      "metadata": {
        "id": "505e4e2a"
      },
      "outputs": [],
      "source": [
        "import numpy as np\n",
        "import pandas as pd\n",
        "import matplotlib.pyplot as plt"
      ]
    },
    {
      "cell_type": "markdown",
      "id": "97044be5",
      "metadata": {
        "id": "97044be5"
      },
      "source": [
        "## Dataset\n",
        "I will use a dataset downloaded freely from Kaggle which shows how weights of 78 people have changed 6 weeks after undertaking three separate types of diets."
      ]
    },
    {
      "cell_type": "code",
      "execution_count": null,
      "id": "7b9a159b",
      "metadata": {
        "id": "7b9a159b"
      },
      "outputs": [],
      "source": [
        "np.random.seed(42)"
      ]
    },
    {
      "cell_type": "code",
      "execution_count": null,
      "id": "9a017169",
      "metadata": {
        "id": "9a017169"
      },
      "outputs": [],
      "source": [
        "food_diet = pd.read_csv(\"foodDiet.csv\")"
      ]
    },
    {
      "cell_type": "code",
      "execution_count": null,
      "id": "d7dd8e89",
      "metadata": {
        "id": "d7dd8e89",
        "outputId": "8b5c0b84-2ed9-4792-f4e0-b37839cccd46"
      },
      "outputs": [
        {
          "data": {
            "text/html": [
              "<div>\n",
              "<style scoped>\n",
              "    .dataframe tbody tr th:only-of-type {\n",
              "        vertical-align: middle;\n",
              "    }\n",
              "\n",
              "    .dataframe tbody tr th {\n",
              "        vertical-align: top;\n",
              "    }\n",
              "\n",
              "    .dataframe thead th {\n",
              "        text-align: right;\n",
              "    }\n",
              "</style>\n",
              "<table border=\"1\" class=\"dataframe\">\n",
              "  <thead>\n",
              "    <tr style=\"text-align: right;\">\n",
              "      <th></th>\n",
              "      <th>Person</th>\n",
              "      <th>gender</th>\n",
              "      <th>Age</th>\n",
              "      <th>Height</th>\n",
              "      <th>pre.weight</th>\n",
              "      <th>Diet</th>\n",
              "      <th>weight6weeks</th>\n",
              "    </tr>\n",
              "  </thead>\n",
              "  <tbody>\n",
              "    <tr>\n",
              "      <th>0</th>\n",
              "      <td>25</td>\n",
              "      <td>0</td>\n",
              "      <td>41</td>\n",
              "      <td>171</td>\n",
              "      <td>60</td>\n",
              "      <td>2</td>\n",
              "      <td>60.0</td>\n",
              "    </tr>\n",
              "    <tr>\n",
              "      <th>1</th>\n",
              "      <td>26</td>\n",
              "      <td>0</td>\n",
              "      <td>32</td>\n",
              "      <td>174</td>\n",
              "      <td>103</td>\n",
              "      <td>2</td>\n",
              "      <td>103.0</td>\n",
              "    </tr>\n",
              "    <tr>\n",
              "      <th>2</th>\n",
              "      <td>1</td>\n",
              "      <td>0</td>\n",
              "      <td>22</td>\n",
              "      <td>159</td>\n",
              "      <td>58</td>\n",
              "      <td>1</td>\n",
              "      <td>54.2</td>\n",
              "    </tr>\n",
              "    <tr>\n",
              "      <th>3</th>\n",
              "      <td>2</td>\n",
              "      <td>0</td>\n",
              "      <td>46</td>\n",
              "      <td>192</td>\n",
              "      <td>60</td>\n",
              "      <td>1</td>\n",
              "      <td>54.0</td>\n",
              "    </tr>\n",
              "    <tr>\n",
              "      <th>4</th>\n",
              "      <td>3</td>\n",
              "      <td>0</td>\n",
              "      <td>55</td>\n",
              "      <td>170</td>\n",
              "      <td>64</td>\n",
              "      <td>1</td>\n",
              "      <td>63.3</td>\n",
              "    </tr>\n",
              "    <tr>\n",
              "      <th>...</th>\n",
              "      <td>...</td>\n",
              "      <td>...</td>\n",
              "      <td>...</td>\n",
              "      <td>...</td>\n",
              "      <td>...</td>\n",
              "      <td>...</td>\n",
              "      <td>...</td>\n",
              "    </tr>\n",
              "    <tr>\n",
              "      <th>73</th>\n",
              "      <td>74</td>\n",
              "      <td>1</td>\n",
              "      <td>35</td>\n",
              "      <td>183</td>\n",
              "      <td>83</td>\n",
              "      <td>3</td>\n",
              "      <td>80.2</td>\n",
              "    </tr>\n",
              "    <tr>\n",
              "      <th>74</th>\n",
              "      <td>75</td>\n",
              "      <td>1</td>\n",
              "      <td>49</td>\n",
              "      <td>177</td>\n",
              "      <td>84</td>\n",
              "      <td>3</td>\n",
              "      <td>79.9</td>\n",
              "    </tr>\n",
              "    <tr>\n",
              "      <th>75</th>\n",
              "      <td>76</td>\n",
              "      <td>1</td>\n",
              "      <td>28</td>\n",
              "      <td>164</td>\n",
              "      <td>85</td>\n",
              "      <td>3</td>\n",
              "      <td>79.7</td>\n",
              "    </tr>\n",
              "    <tr>\n",
              "      <th>76</th>\n",
              "      <td>77</td>\n",
              "      <td>1</td>\n",
              "      <td>40</td>\n",
              "      <td>167</td>\n",
              "      <td>87</td>\n",
              "      <td>3</td>\n",
              "      <td>77.8</td>\n",
              "    </tr>\n",
              "    <tr>\n",
              "      <th>77</th>\n",
              "      <td>78</td>\n",
              "      <td>1</td>\n",
              "      <td>51</td>\n",
              "      <td>175</td>\n",
              "      <td>88</td>\n",
              "      <td>3</td>\n",
              "      <td>81.9</td>\n",
              "    </tr>\n",
              "  </tbody>\n",
              "</table>\n",
              "<p>78 rows × 7 columns</p>\n",
              "</div>"
            ],
            "text/plain": [
              "    Person  gender  Age  Height  pre.weight  Diet  weight6weeks\n",
              "0       25       0   41     171          60     2          60.0\n",
              "1       26       0   32     174         103     2         103.0\n",
              "2        1       0   22     159          58     1          54.2\n",
              "3        2       0   46     192          60     1          54.0\n",
              "4        3       0   55     170          64     1          63.3\n",
              "..     ...     ...  ...     ...         ...   ...           ...\n",
              "73      74       1   35     183          83     3          80.2\n",
              "74      75       1   49     177          84     3          79.9\n",
              "75      76       1   28     164          85     3          79.7\n",
              "76      77       1   40     167          87     3          77.8\n",
              "77      78       1   51     175          88     3          81.9\n",
              "\n",
              "[78 rows x 7 columns]"
            ]
          },
          "execution_count": 4,
          "metadata": {},
          "output_type": "execute_result"
        }
      ],
      "source": [
        "food_diet"
      ]
    },
    {
      "cell_type": "markdown",
      "id": "1ead4ffe",
      "metadata": {
        "id": "1ead4ffe"
      },
      "source": [
        "## 1. Data Cleaning and Feature Engineering"
      ]
    },
    {
      "cell_type": "code",
      "execution_count": null,
      "id": "91bd74d3",
      "metadata": {
        "id": "91bd74d3",
        "outputId": "42886344-0559-435f-b1c0-826f345dbcd9"
      },
      "outputs": [
        {
          "data": {
            "text/plain": [
              "Person          0\n",
              "gender          0\n",
              "Age             0\n",
              "Height          0\n",
              "pre.weight      0\n",
              "Diet            0\n",
              "weight6weeks    0\n",
              "dtype: int64"
            ]
          },
          "execution_count": 5,
          "metadata": {},
          "output_type": "execute_result"
        }
      ],
      "source": [
        "food_diet.isnull().sum()"
      ]
    },
    {
      "cell_type": "code",
      "execution_count": null,
      "id": "fae75371",
      "metadata": {
        "id": "fae75371"
      },
      "outputs": [],
      "source": [
        "food_diet = food_diet.drop(columns=[\"Height\", \"Person\"])\n",
        "food_diet.rename(columns={'Age': 'age', 'pre.weight': 'start_weight',\n",
        "                          'Diet': 'diet', 'weight6weeks': 'weight_in_6_weeks'}, inplace=True)\n",
        "food_diet = food_diet[['gender', 'age', 'diet', 'start_weight', 'weight_in_6_weeks']]"
      ]
    },
    {
      "cell_type": "code",
      "execution_count": null,
      "id": "4a144242",
      "metadata": {
        "id": "4a144242",
        "outputId": "9387e7b1-f87c-4c15-b84d-f3cdd9670754"
      },
      "outputs": [
        {
          "data": {
            "text/html": [
              "<div>\n",
              "<style scoped>\n",
              "    .dataframe tbody tr th:only-of-type {\n",
              "        vertical-align: middle;\n",
              "    }\n",
              "\n",
              "    .dataframe tbody tr th {\n",
              "        vertical-align: top;\n",
              "    }\n",
              "\n",
              "    .dataframe thead th {\n",
              "        text-align: right;\n",
              "    }\n",
              "</style>\n",
              "<table border=\"1\" class=\"dataframe\">\n",
              "  <thead>\n",
              "    <tr style=\"text-align: right;\">\n",
              "      <th></th>\n",
              "      <th>gender</th>\n",
              "      <th>age</th>\n",
              "      <th>diet</th>\n",
              "      <th>start_weight</th>\n",
              "      <th>weight_in_6_weeks</th>\n",
              "    </tr>\n",
              "  </thead>\n",
              "  <tbody>\n",
              "    <tr>\n",
              "      <th>0</th>\n",
              "      <td>0</td>\n",
              "      <td>41</td>\n",
              "      <td>2</td>\n",
              "      <td>60</td>\n",
              "      <td>60.0</td>\n",
              "    </tr>\n",
              "    <tr>\n",
              "      <th>1</th>\n",
              "      <td>0</td>\n",
              "      <td>32</td>\n",
              "      <td>2</td>\n",
              "      <td>103</td>\n",
              "      <td>103.0</td>\n",
              "    </tr>\n",
              "    <tr>\n",
              "      <th>2</th>\n",
              "      <td>0</td>\n",
              "      <td>22</td>\n",
              "      <td>1</td>\n",
              "      <td>58</td>\n",
              "      <td>54.2</td>\n",
              "    </tr>\n",
              "    <tr>\n",
              "      <th>3</th>\n",
              "      <td>0</td>\n",
              "      <td>46</td>\n",
              "      <td>1</td>\n",
              "      <td>60</td>\n",
              "      <td>54.0</td>\n",
              "    </tr>\n",
              "    <tr>\n",
              "      <th>4</th>\n",
              "      <td>0</td>\n",
              "      <td>55</td>\n",
              "      <td>1</td>\n",
              "      <td>64</td>\n",
              "      <td>63.3</td>\n",
              "    </tr>\n",
              "    <tr>\n",
              "      <th>...</th>\n",
              "      <td>...</td>\n",
              "      <td>...</td>\n",
              "      <td>...</td>\n",
              "      <td>...</td>\n",
              "      <td>...</td>\n",
              "    </tr>\n",
              "    <tr>\n",
              "      <th>73</th>\n",
              "      <td>1</td>\n",
              "      <td>35</td>\n",
              "      <td>3</td>\n",
              "      <td>83</td>\n",
              "      <td>80.2</td>\n",
              "    </tr>\n",
              "    <tr>\n",
              "      <th>74</th>\n",
              "      <td>1</td>\n",
              "      <td>49</td>\n",
              "      <td>3</td>\n",
              "      <td>84</td>\n",
              "      <td>79.9</td>\n",
              "    </tr>\n",
              "    <tr>\n",
              "      <th>75</th>\n",
              "      <td>1</td>\n",
              "      <td>28</td>\n",
              "      <td>3</td>\n",
              "      <td>85</td>\n",
              "      <td>79.7</td>\n",
              "    </tr>\n",
              "    <tr>\n",
              "      <th>76</th>\n",
              "      <td>1</td>\n",
              "      <td>40</td>\n",
              "      <td>3</td>\n",
              "      <td>87</td>\n",
              "      <td>77.8</td>\n",
              "    </tr>\n",
              "    <tr>\n",
              "      <th>77</th>\n",
              "      <td>1</td>\n",
              "      <td>51</td>\n",
              "      <td>3</td>\n",
              "      <td>88</td>\n",
              "      <td>81.9</td>\n",
              "    </tr>\n",
              "  </tbody>\n",
              "</table>\n",
              "<p>78 rows × 5 columns</p>\n",
              "</div>"
            ],
            "text/plain": [
              "    gender  age  diet  start_weight  weight_in_6_weeks\n",
              "0        0   41     2            60               60.0\n",
              "1        0   32     2           103              103.0\n",
              "2        0   22     1            58               54.2\n",
              "3        0   46     1            60               54.0\n",
              "4        0   55     1            64               63.3\n",
              "..     ...  ...   ...           ...                ...\n",
              "73       1   35     3            83               80.2\n",
              "74       1   49     3            84               79.9\n",
              "75       1   28     3            85               79.7\n",
              "76       1   40     3            87               77.8\n",
              "77       1   51     3            88               81.9\n",
              "\n",
              "[78 rows x 5 columns]"
            ]
          },
          "execution_count": 7,
          "metadata": {},
          "output_type": "execute_result"
        }
      ],
      "source": [
        "food_diet"
      ]
    },
    {
      "cell_type": "code",
      "execution_count": null,
      "id": "8b91530f",
      "metadata": {
        "id": "8b91530f",
        "outputId": "10ff3d50-dc12-469f-a21d-70214fcd9529"
      },
      "outputs": [
        {
          "data": {
            "text/html": [
              "<div>\n",
              "<style scoped>\n",
              "    .dataframe tbody tr th:only-of-type {\n",
              "        vertical-align: middle;\n",
              "    }\n",
              "\n",
              "    .dataframe tbody tr th {\n",
              "        vertical-align: top;\n",
              "    }\n",
              "\n",
              "    .dataframe thead th {\n",
              "        text-align: right;\n",
              "    }\n",
              "</style>\n",
              "<table border=\"1\" class=\"dataframe\">\n",
              "  <thead>\n",
              "    <tr style=\"text-align: right;\">\n",
              "      <th></th>\n",
              "      <th>gender</th>\n",
              "      <th>age</th>\n",
              "      <th>diet</th>\n",
              "      <th>start_weight</th>\n",
              "      <th>weight_in_6_weeks</th>\n",
              "    </tr>\n",
              "  </thead>\n",
              "  <tbody>\n",
              "    <tr>\n",
              "      <th>gender</th>\n",
              "      <td>1.000000</td>\n",
              "      <td>0.018422</td>\n",
              "      <td>0.023479</td>\n",
              "      <td>0.642679</td>\n",
              "      <td>0.611748</td>\n",
              "    </tr>\n",
              "    <tr>\n",
              "      <th>age</th>\n",
              "      <td>0.018422</td>\n",
              "      <td>1.000000</td>\n",
              "      <td>-0.127707</td>\n",
              "      <td>-0.006265</td>\n",
              "      <td>0.010472</td>\n",
              "    </tr>\n",
              "    <tr>\n",
              "      <th>diet</th>\n",
              "      <td>0.023479</td>\n",
              "      <td>-0.127707</td>\n",
              "      <td>1.000000</td>\n",
              "      <td>0.039234</td>\n",
              "      <td>-0.048050</td>\n",
              "    </tr>\n",
              "    <tr>\n",
              "      <th>start_weight</th>\n",
              "      <td>0.642679</td>\n",
              "      <td>-0.006265</td>\n",
              "      <td>0.039234</td>\n",
              "      <td>1.000000</td>\n",
              "      <td>0.958449</td>\n",
              "    </tr>\n",
              "    <tr>\n",
              "      <th>weight_in_6_weeks</th>\n",
              "      <td>0.611748</td>\n",
              "      <td>0.010472</td>\n",
              "      <td>-0.048050</td>\n",
              "      <td>0.958449</td>\n",
              "      <td>1.000000</td>\n",
              "    </tr>\n",
              "  </tbody>\n",
              "</table>\n",
              "</div>"
            ],
            "text/plain": [
              "                     gender       age      diet  start_weight  \\\n",
              "gender             1.000000  0.018422  0.023479      0.642679   \n",
              "age                0.018422  1.000000 -0.127707     -0.006265   \n",
              "diet               0.023479 -0.127707  1.000000      0.039234   \n",
              "start_weight       0.642679 -0.006265  0.039234      1.000000   \n",
              "weight_in_6_weeks  0.611748  0.010472 -0.048050      0.958449   \n",
              "\n",
              "                   weight_in_6_weeks  \n",
              "gender                      0.611748  \n",
              "age                         0.010472  \n",
              "diet                       -0.048050  \n",
              "start_weight                0.958449  \n",
              "weight_in_6_weeks           1.000000  "
            ]
          },
          "execution_count": 8,
          "metadata": {},
          "output_type": "execute_result"
        }
      ],
      "source": [
        "food_diet.corr(numeric_only=False)"
      ]
    },
    {
      "cell_type": "markdown",
      "id": "3a703440",
      "metadata": {
        "id": "3a703440"
      },
      "source": [
        "Well, well... **diet** and **age** have a quite and interesting correlation, which is the strongest relationship **diet** has with variables in that dataset. Let's calibrate **age** into age groups and see if that would still be the case."
      ]
    },
    {
      "cell_type": "markdown",
      "id": "52177c26",
      "metadata": {
        "id": "52177c26"
      },
      "source": [
        "### Putting Ages into Age groups\n",
        "The youngest subject of that study is 16, while the oldest one - 60 years of age. Therefore, we can divide **age** into three subgroups - 15 to 30, 31 to 45, 46 to 60 years of age."
      ]
    },
    {
      "cell_type": "code",
      "execution_count": null,
      "id": "9e57f644",
      "metadata": {
        "id": "9e57f644"
      },
      "outputs": [],
      "source": [
        "bins = [15, 30, 45, 60]\n",
        "labels = [1, 2, 3]"
      ]
    },
    {
      "cell_type": "code",
      "execution_count": null,
      "id": "764ca2fa",
      "metadata": {
        "id": "764ca2fa"
      },
      "outputs": [],
      "source": [
        "age_groups = pd.cut(food_diet.age, bins, labels=labels)"
      ]
    },
    {
      "cell_type": "code",
      "execution_count": null,
      "id": "8cebe454",
      "metadata": {
        "id": "8cebe454",
        "outputId": "07e2f251-831d-46a0-d32b-45af06a20617"
      },
      "outputs": [
        {
          "data": {
            "text/plain": [
              "0     2\n",
              "1     2\n",
              "2     1\n",
              "3     3\n",
              "4     3\n",
              "     ..\n",
              "73    2\n",
              "74    3\n",
              "75    1\n",
              "76    2\n",
              "77    3\n",
              "Name: age, Length: 78, dtype: category\n",
              "Categories (3, int64): [1 < 2 < 3]"
            ]
          },
          "execution_count": 11,
          "metadata": {},
          "output_type": "execute_result"
        }
      ],
      "source": [
        "age_groups"
      ]
    },
    {
      "cell_type": "code",
      "execution_count": null,
      "id": "ec906aca",
      "metadata": {
        "id": "ec906aca",
        "outputId": "02ba4183-431e-41dc-d8fd-256354fd026f"
      },
      "outputs": [
        {
          "data": {
            "text/html": [
              "<div>\n",
              "<style scoped>\n",
              "    .dataframe tbody tr th:only-of-type {\n",
              "        vertical-align: middle;\n",
              "    }\n",
              "\n",
              "    .dataframe tbody tr th {\n",
              "        vertical-align: top;\n",
              "    }\n",
              "\n",
              "    .dataframe thead th {\n",
              "        text-align: right;\n",
              "    }\n",
              "</style>\n",
              "<table border=\"1\" class=\"dataframe\">\n",
              "  <thead>\n",
              "    <tr style=\"text-align: right;\">\n",
              "      <th></th>\n",
              "      <th>gender</th>\n",
              "      <th>age</th>\n",
              "      <th>diet</th>\n",
              "      <th>start_weight</th>\n",
              "      <th>weight_in_6_weeks</th>\n",
              "    </tr>\n",
              "  </thead>\n",
              "  <tbody>\n",
              "    <tr>\n",
              "      <th>0</th>\n",
              "      <td>0</td>\n",
              "      <td>2</td>\n",
              "      <td>2</td>\n",
              "      <td>60</td>\n",
              "      <td>60.0</td>\n",
              "    </tr>\n",
              "    <tr>\n",
              "      <th>1</th>\n",
              "      <td>0</td>\n",
              "      <td>2</td>\n",
              "      <td>2</td>\n",
              "      <td>103</td>\n",
              "      <td>103.0</td>\n",
              "    </tr>\n",
              "    <tr>\n",
              "      <th>2</th>\n",
              "      <td>0</td>\n",
              "      <td>1</td>\n",
              "      <td>1</td>\n",
              "      <td>58</td>\n",
              "      <td>54.2</td>\n",
              "    </tr>\n",
              "    <tr>\n",
              "      <th>3</th>\n",
              "      <td>0</td>\n",
              "      <td>3</td>\n",
              "      <td>1</td>\n",
              "      <td>60</td>\n",
              "      <td>54.0</td>\n",
              "    </tr>\n",
              "    <tr>\n",
              "      <th>4</th>\n",
              "      <td>0</td>\n",
              "      <td>3</td>\n",
              "      <td>1</td>\n",
              "      <td>64</td>\n",
              "      <td>63.3</td>\n",
              "    </tr>\n",
              "    <tr>\n",
              "      <th>...</th>\n",
              "      <td>...</td>\n",
              "      <td>...</td>\n",
              "      <td>...</td>\n",
              "      <td>...</td>\n",
              "      <td>...</td>\n",
              "    </tr>\n",
              "    <tr>\n",
              "      <th>73</th>\n",
              "      <td>1</td>\n",
              "      <td>2</td>\n",
              "      <td>3</td>\n",
              "      <td>83</td>\n",
              "      <td>80.2</td>\n",
              "    </tr>\n",
              "    <tr>\n",
              "      <th>74</th>\n",
              "      <td>1</td>\n",
              "      <td>3</td>\n",
              "      <td>3</td>\n",
              "      <td>84</td>\n",
              "      <td>79.9</td>\n",
              "    </tr>\n",
              "    <tr>\n",
              "      <th>75</th>\n",
              "      <td>1</td>\n",
              "      <td>1</td>\n",
              "      <td>3</td>\n",
              "      <td>85</td>\n",
              "      <td>79.7</td>\n",
              "    </tr>\n",
              "    <tr>\n",
              "      <th>76</th>\n",
              "      <td>1</td>\n",
              "      <td>2</td>\n",
              "      <td>3</td>\n",
              "      <td>87</td>\n",
              "      <td>77.8</td>\n",
              "    </tr>\n",
              "    <tr>\n",
              "      <th>77</th>\n",
              "      <td>1</td>\n",
              "      <td>3</td>\n",
              "      <td>3</td>\n",
              "      <td>88</td>\n",
              "      <td>81.9</td>\n",
              "    </tr>\n",
              "  </tbody>\n",
              "</table>\n",
              "<p>78 rows × 5 columns</p>\n",
              "</div>"
            ],
            "text/plain": [
              "    gender age  diet  start_weight  weight_in_6_weeks\n",
              "0        0   2     2            60               60.0\n",
              "1        0   2     2           103              103.0\n",
              "2        0   1     1            58               54.2\n",
              "3        0   3     1            60               54.0\n",
              "4        0   3     1            64               63.3\n",
              "..     ...  ..   ...           ...                ...\n",
              "73       1   2     3            83               80.2\n",
              "74       1   3     3            84               79.9\n",
              "75       1   1     3            85               79.7\n",
              "76       1   2     3            87               77.8\n",
              "77       1   3     3            88               81.9\n",
              "\n",
              "[78 rows x 5 columns]"
            ]
          },
          "execution_count": 12,
          "metadata": {},
          "output_type": "execute_result"
        }
      ],
      "source": [
        "food_diet.age = age_groups\n",
        "food_diet"
      ]
    },
    {
      "cell_type": "markdown",
      "id": "37c01c63",
      "metadata": {
        "id": "37c01c63"
      },
      "source": [
        "After stratifying **age** into three age groups, we can see that **diet** and **age** continue to have a relatively strong negative correlation, especially compared to **diet**'s correlation with any other variable:"
      ]
    },
    {
      "cell_type": "code",
      "execution_count": null,
      "id": "6b8a400d",
      "metadata": {
        "id": "6b8a400d",
        "outputId": "fdd7f68f-d752-4bab-b187-ef76b3f8daa9"
      },
      "outputs": [
        {
          "data": {
            "text/html": [
              "<div>\n",
              "<style scoped>\n",
              "    .dataframe tbody tr th:only-of-type {\n",
              "        vertical-align: middle;\n",
              "    }\n",
              "\n",
              "    .dataframe tbody tr th {\n",
              "        vertical-align: top;\n",
              "    }\n",
              "\n",
              "    .dataframe thead th {\n",
              "        text-align: right;\n",
              "    }\n",
              "</style>\n",
              "<table border=\"1\" class=\"dataframe\">\n",
              "  <thead>\n",
              "    <tr style=\"text-align: right;\">\n",
              "      <th></th>\n",
              "      <th>gender</th>\n",
              "      <th>age</th>\n",
              "      <th>diet</th>\n",
              "      <th>start_weight</th>\n",
              "      <th>weight_in_6_weeks</th>\n",
              "    </tr>\n",
              "  </thead>\n",
              "  <tbody>\n",
              "    <tr>\n",
              "      <th>gender</th>\n",
              "      <td>1.000000</td>\n",
              "      <td>0.001504</td>\n",
              "      <td>0.023479</td>\n",
              "      <td>0.642679</td>\n",
              "      <td>0.611748</td>\n",
              "    </tr>\n",
              "    <tr>\n",
              "      <th>age</th>\n",
              "      <td>0.001504</td>\n",
              "      <td>1.000000</td>\n",
              "      <td>-0.078172</td>\n",
              "      <td>-0.037167</td>\n",
              "      <td>-0.010597</td>\n",
              "    </tr>\n",
              "    <tr>\n",
              "      <th>diet</th>\n",
              "      <td>0.023479</td>\n",
              "      <td>-0.078172</td>\n",
              "      <td>1.000000</td>\n",
              "      <td>0.039234</td>\n",
              "      <td>-0.048050</td>\n",
              "    </tr>\n",
              "    <tr>\n",
              "      <th>start_weight</th>\n",
              "      <td>0.642679</td>\n",
              "      <td>-0.037167</td>\n",
              "      <td>0.039234</td>\n",
              "      <td>1.000000</td>\n",
              "      <td>0.958449</td>\n",
              "    </tr>\n",
              "    <tr>\n",
              "      <th>weight_in_6_weeks</th>\n",
              "      <td>0.611748</td>\n",
              "      <td>-0.010597</td>\n",
              "      <td>-0.048050</td>\n",
              "      <td>0.958449</td>\n",
              "      <td>1.000000</td>\n",
              "    </tr>\n",
              "  </tbody>\n",
              "</table>\n",
              "</div>"
            ],
            "text/plain": [
              "                     gender       age      diet  start_weight  \\\n",
              "gender             1.000000  0.001504  0.023479      0.642679   \n",
              "age                0.001504  1.000000 -0.078172     -0.037167   \n",
              "diet               0.023479 -0.078172  1.000000      0.039234   \n",
              "start_weight       0.642679 -0.037167  0.039234      1.000000   \n",
              "weight_in_6_weeks  0.611748 -0.010597 -0.048050      0.958449   \n",
              "\n",
              "                   weight_in_6_weeks  \n",
              "gender                      0.611748  \n",
              "age                        -0.010597  \n",
              "diet                       -0.048050  \n",
              "start_weight                0.958449  \n",
              "weight_in_6_weeks           1.000000  "
            ]
          },
          "execution_count": 13,
          "metadata": {},
          "output_type": "execute_result"
        }
      ],
      "source": [
        "food_diet.corr(numeric_only=False)"
      ]
    },
    {
      "cell_type": "markdown",
      "id": "1fc54c74",
      "metadata": {
        "id": "1fc54c74"
      },
      "source": [
        "Maybe it's not a bad idea to account for this observation in our causal model."
      ]
    },
    {
      "cell_type": "markdown",
      "id": "13d83eef",
      "metadata": {
        "id": "13d83eef"
      },
      "source": [
        "## 2. Causal effect of Diet on Weight Loss\n",
        "In this part, we are going to estimate the causal effect of **diet** on **weight_in_6_weeks** by using Propensity score matching. As the treatment in this case is a variable with discrete, non-binary values, I am going to use 1 vs All approach, meaning we will take a look into three cases in which we will seek to estimate the effect of getting on one of the three diets as opposed to not taking it (here, the 0 values are represented by the other 2 diets).\n",
        "\n",
        "But first, lets create the causal model."
      ]
    },
    {
      "cell_type": "code",
      "execution_count": null,
      "id": "a52e4520",
      "metadata": {
        "id": "a52e4520"
      },
      "outputs": [],
      "source": [
        "import dowhy\n",
        "import networkx as nx\n",
        "import dowhy.gcm as gcm\n",
        "import dowhy.api\n",
        "from dowhy import CausalModel"
      ]
    },
    {
      "cell_type": "code",
      "execution_count": null,
      "id": "89f870d0",
      "metadata": {
        "id": "89f870d0"
      },
      "outputs": [],
      "source": [
        "food_diet_est_ate = food_diet.copy()"
      ]
    },
    {
      "cell_type": "code",
      "execution_count": null,
      "id": "63ebdf87",
      "metadata": {
        "id": "63ebdf87"
      },
      "outputs": [],
      "source": [
        "def food_diet_type_one_vs_rest(df, diet_type):\n",
        "    diet = []\n",
        "    for i in range(len(df)):\n",
        "        if df.diet[i] == diet_type:\n",
        "            diet.append(1)\n",
        "        else:\n",
        "            diet.append(0)\n",
        "    df['diet'] = diet\n",
        "    return df"
      ]
    },
    {
      "cell_type": "markdown",
      "id": "99a13eb9",
      "metadata": {
        "id": "99a13eb9"
      },
      "source": [
        "### Causal Model"
      ]
    },
    {
      "cell_type": "code",
      "execution_count": null,
      "id": "0b26ba10",
      "metadata": {
        "id": "0b26ba10"
      },
      "outputs": [],
      "source": [
        "graph_14 = nx.DiGraph([('age', 'start_weight'), ('age', 'weight_in_6_weeks'), ('gender', 'weight_in_6_weeks'),\n",
        "                        ('start_weight', 'weight_in_6_weeks'), ('gender', 'start_weight'),\n",
        "                        ('age', 'diet'), ('diet', 'weight_in_6_weeks')])"
      ]
    },
    {
      "cell_type": "markdown",
      "id": "4f669f02",
      "metadata": {
        "id": "4f669f02"
      },
      "source": [
        "![causal_model.png](attachment:causal_model.png)"
      ]
    },
    {
      "cell_type": "markdown",
      "id": "1ac509a1",
      "metadata": {
        "id": "1ac509a1"
      },
      "source": [
        "### Average Treatment Effect of Diet 1"
      ]
    },
    {
      "cell_type": "code",
      "execution_count": null,
      "id": "8eaba441",
      "metadata": {
        "id": "8eaba441"
      },
      "outputs": [],
      "source": [
        "food_diet_ate_diet_1 = food_diet_type_one_vs_rest(food_diet_est_ate.copy(), 1)\n",
        "model_14_diet_1 = CausalModel(\n",
        "        data = food_diet_ate_diet_1,\n",
        "        graph=graph_14,\n",
        "        treatment='diet',\n",
        "        outcome='weight_in_6_weeks',\n",
        "        common_causes='age')"
      ]
    },
    {
      "cell_type": "code",
      "execution_count": null,
      "id": "8fa2bede",
      "metadata": {
        "id": "8fa2bede",
        "outputId": "edf7bb09-ff88-4c32-b916-9a84d0581736"
      },
      "outputs": [
        {
          "name": "stdout",
          "output_type": "stream",
          "text": [
            "Estimand type: EstimandType.NONPARAMETRIC_ATE\n",
            "\n",
            "### Estimand : 1\n",
            "Estimand name: backdoor\n",
            "Estimand expression:\n",
            "   d                             \n",
            "───────(E[weight_in_6_weeks|age])\n",
            "d[diet]                          \n",
            "Estimand assumption 1, Unconfoundedness: If U→{diet} and U→weight_in_6_weeks then P(weight_in_6_weeks|diet,age,U) = P(weight_in_6_weeks|diet,age)\n",
            "\n",
            "### Estimand : 2\n",
            "Estimand name: iv\n",
            "No such variable(s) found!\n",
            "\n",
            "### Estimand : 3\n",
            "Estimand name: frontdoor\n",
            "No such variable(s) found!\n",
            "\n"
          ]
        }
      ],
      "source": [
        "identified_estimand= model_14_diet_1.identify_effect(proceed_when_unidentifiable=True)\n",
        "print(identified_estimand)"
      ]
    },
    {
      "cell_type": "code",
      "execution_count": null,
      "id": "c9513764",
      "metadata": {
        "id": "c9513764",
        "outputId": "8ffede66-5257-45eb-b7d5-ab10d2a72194"
      },
      "outputs": [
        {
          "name": "stdout",
          "output_type": "stream",
          "text": [
            "*** Causal Estimate ***\n",
            "\n",
            "## Identified estimand\n",
            "Estimand type: EstimandType.NONPARAMETRIC_ATE\n",
            "\n",
            "### Estimand : 1\n",
            "Estimand name: backdoor\n",
            "Estimand expression:\n",
            "   d                             \n",
            "───────(E[weight_in_6_weeks|age])\n",
            "d[diet]                          \n",
            "Estimand assumption 1, Unconfoundedness: If U→{diet} and U→weight_in_6_weeks then P(weight_in_6_weeks|diet,age,U) = P(weight_in_6_weeks|diet,age)\n",
            "\n",
            "## Realized estimand\n",
            "b: weight_in_6_weeks~diet+age\n",
            "Target units: ate\n",
            "\n",
            "## Estimate\n",
            "Mean value: -4.084615384615384\n",
            "\n",
            "Causal Estimate is -4.084615384615384\n",
            "Increasing the treatment variable(s) [diet] from 0 to 1 causes an increase of -4.084615384615384 in the expected value of the outcome [['weight_in_6_weeks']], over the data distribution/population represented by the dataset.\n"
          ]
        }
      ],
      "source": [
        "causal_estimate_match_d1 = model_14_diet_1.estimate_effect(identified_estimand,\n",
        "                                              method_name=\"backdoor.propensity_score_matching\",\n",
        "                                              target_units=\"ate\")\n",
        "print(causal_estimate_match_d1)\n",
        "print(\"Causal Estimate is \" + str(causal_estimate_match_d1.value))\n",
        "interpretation = causal_estimate_match_d1.interpret(method_name=\"textual_effect_interpreter\")"
      ]
    },
    {
      "cell_type": "markdown",
      "id": "d6617d06",
      "metadata": {
        "id": "d6617d06"
      },
      "source": [
        "### Average Treatment Effect of Diet 2"
      ]
    },
    {
      "cell_type": "code",
      "execution_count": null,
      "id": "7a762a38",
      "metadata": {
        "id": "7a762a38"
      },
      "outputs": [],
      "source": [
        "food_diet_ate_diet_2 = food_diet_type_one_vs_rest(food_diet_est_ate.copy(), 2)\n",
        "model_14_diet_2 = CausalModel(\n",
        "        data = food_diet_ate_diet_2,\n",
        "        graph=graph_14,\n",
        "        treatment='diet',\n",
        "        outcome='weight_in_6_weeks',\n",
        "        common_causes='age')"
      ]
    },
    {
      "cell_type": "code",
      "execution_count": null,
      "id": "c5eda669",
      "metadata": {
        "id": "c5eda669",
        "outputId": "3953af71-5ff4-4ea6-9786-772d07eb760e"
      },
      "outputs": [
        {
          "name": "stdout",
          "output_type": "stream",
          "text": [
            "Estimand type: EstimandType.NONPARAMETRIC_ATE\n",
            "\n",
            "### Estimand : 1\n",
            "Estimand name: backdoor\n",
            "Estimand expression:\n",
            "   d                             \n",
            "───────(E[weight_in_6_weeks|age])\n",
            "d[diet]                          \n",
            "Estimand assumption 1, Unconfoundedness: If U→{diet} and U→weight_in_6_weeks then P(weight_in_6_weeks|diet,age,U) = P(weight_in_6_weeks|diet,age)\n",
            "\n",
            "### Estimand : 2\n",
            "Estimand name: iv\n",
            "No such variable(s) found!\n",
            "\n",
            "### Estimand : 3\n",
            "Estimand name: frontdoor\n",
            "No such variable(s) found!\n",
            "\n"
          ]
        }
      ],
      "source": [
        "identified_estimand= model_14_diet_2.identify_effect(proceed_when_unidentifiable=True)\n",
        "print(identified_estimand)"
      ]
    },
    {
      "cell_type": "code",
      "execution_count": null,
      "id": "b80f7c44",
      "metadata": {
        "id": "b80f7c44",
        "outputId": "8a3af4bd-2886-4dd6-cd87-514b3c601865"
      },
      "outputs": [
        {
          "name": "stdout",
          "output_type": "stream",
          "text": [
            "*** Causal Estimate ***\n",
            "\n",
            "## Identified estimand\n",
            "Estimand type: EstimandType.NONPARAMETRIC_ATE\n",
            "\n",
            "### Estimand : 1\n",
            "Estimand name: backdoor\n",
            "Estimand expression:\n",
            "   d                             \n",
            "───────(E[weight_in_6_weeks|age])\n",
            "d[diet]                          \n",
            "Estimand assumption 1, Unconfoundedness: If U→{diet} and U→weight_in_6_weeks then P(weight_in_6_weeks|diet,age,U) = P(weight_in_6_weeks|diet,age)\n",
            "\n",
            "## Realized estimand\n",
            "b: weight_in_6_weeks~diet+age\n",
            "Target units: ate\n",
            "\n",
            "## Estimate\n",
            "Mean value: -2.7435897435897445\n",
            "\n",
            "Causal Estimate is -2.7435897435897445\n",
            "Increasing the treatment variable(s) [diet] from 0 to 1 causes an increase of -2.7435897435897445 in the expected value of the outcome [['weight_in_6_weeks']], over the data distribution/population represented by the dataset.\n"
          ]
        }
      ],
      "source": [
        "causal_estimate_match_d2 = model_14_diet_2.estimate_effect(identified_estimand,\n",
        "                                              method_name=\"backdoor.propensity_score_matching\",\n",
        "                                              target_units=\"ate\")\n",
        "print(causal_estimate_match_d2)\n",
        "print(\"Causal Estimate is \" + str(causal_estimate_match_d2.value))\n",
        "interpretation = causal_estimate_match_d2.interpret(method_name=\"textual_effect_interpreter\")"
      ]
    },
    {
      "cell_type": "markdown",
      "id": "95be5dbf",
      "metadata": {
        "id": "95be5dbf"
      },
      "source": [
        "### Average Treatment Effect of Diet 3"
      ]
    },
    {
      "cell_type": "code",
      "execution_count": null,
      "id": "e05367f9",
      "metadata": {
        "id": "e05367f9"
      },
      "outputs": [],
      "source": [
        "food_diet_ate_diet_3 = food_diet_type_one_vs_rest(food_diet_est_ate.copy(), 3)\n",
        "model_14_diet_3 = CausalModel(\n",
        "        data = food_diet_ate_diet_3,\n",
        "        graph=graph_14,\n",
        "        treatment='diet',\n",
        "        outcome='weight_in_6_weeks',\n",
        "        common_causes='age')"
      ]
    },
    {
      "cell_type": "code",
      "execution_count": null,
      "id": "b7a4bb9e",
      "metadata": {
        "id": "b7a4bb9e",
        "outputId": "29ad9b42-831e-4424-caeb-90d1dbcfa375"
      },
      "outputs": [
        {
          "name": "stdout",
          "output_type": "stream",
          "text": [
            "Estimand type: EstimandType.NONPARAMETRIC_ATE\n",
            "\n",
            "### Estimand : 1\n",
            "Estimand name: backdoor\n",
            "Estimand expression:\n",
            "   d                             \n",
            "───────(E[weight_in_6_weeks|age])\n",
            "d[diet]                          \n",
            "Estimand assumption 1, Unconfoundedness: If U→{diet} and U→weight_in_6_weeks then P(weight_in_6_weeks|diet,age,U) = P(weight_in_6_weeks|diet,age)\n",
            "\n",
            "### Estimand : 2\n",
            "Estimand name: iv\n",
            "No such variable(s) found!\n",
            "\n",
            "### Estimand : 3\n",
            "Estimand name: frontdoor\n",
            "No such variable(s) found!\n",
            "\n"
          ]
        }
      ],
      "source": [
        "identified_estimand= model_14_diet_3.identify_effect(proceed_when_unidentifiable=True)\n",
        "print(identified_estimand)"
      ]
    },
    {
      "cell_type": "code",
      "execution_count": null,
      "id": "3aa8a007",
      "metadata": {
        "id": "3aa8a007",
        "outputId": "e97653a0-459c-4ac9-b3a5-207ccb7dd68b"
      },
      "outputs": [
        {
          "name": "stdout",
          "output_type": "stream",
          "text": [
            "*** Causal Estimate ***\n",
            "\n",
            "## Identified estimand\n",
            "Estimand type: EstimandType.NONPARAMETRIC_ATE\n",
            "\n",
            "### Estimand : 1\n",
            "Estimand name: backdoor\n",
            "Estimand expression:\n",
            "   d                             \n",
            "───────(E[weight_in_6_weeks|age])\n",
            "d[diet]                          \n",
            "Estimand assumption 1, Unconfoundedness: If U→{diet} and U→weight_in_6_weeks then P(weight_in_6_weeks|diet,age,U) = P(weight_in_6_weeks|diet,age)\n",
            "\n",
            "## Realized estimand\n",
            "b: weight_in_6_weeks~diet+age\n",
            "Target units: ate\n",
            "\n",
            "## Estimate\n",
            "Mean value: -4.357692307692307\n",
            "\n",
            "Causal Estimate is -4.357692307692307\n",
            "Increasing the treatment variable(s) [diet] from 0 to 1 causes an increase of -4.084615384615384 in the expected value of the outcome [['weight_in_6_weeks']], over the data distribution/population represented by the dataset.\n"
          ]
        }
      ],
      "source": [
        "causal_estimate_match_d3 = model_14_diet_3.estimate_effect(identified_estimand,\n",
        "                                              method_name=\"backdoor.propensity_score_matching\",\n",
        "                                              target_units=\"ate\")\n",
        "print(causal_estimate_match_d3)\n",
        "print(\"Causal Estimate is \" + str(causal_estimate_match_d3.value))\n",
        "interpretation = causal_estimate_match_d1.interpret(method_name=\"textual_effect_interpreter\")"
      ]
    },
    {
      "cell_type": "code",
      "execution_count": null,
      "id": "91cb102e",
      "metadata": {
        "id": "91cb102e",
        "outputId": "4e97e152-2980-4d38-edda-62cc79083ef6"
      },
      "outputs": [
        {
          "data": {
            "text/plain": [
              "<matplotlib.legend.Legend at 0x7fc8255ba280>"
            ]
          },
          "execution_count": 27,
          "metadata": {},
          "output_type": "execute_result"
        },
        {
          "data": {
            "image/png": "[encoded data removed]",
            "text/plain": [
              "<Figure size 640x480 with 1 Axes>"
            ]
          },
          "metadata": {},
          "output_type": "display_data"
        }
      ],
      "source": [
        "df_plot = pd.DataFrame()\n",
        "df_plot['diet_1'] = [-4.084615384615384]\n",
        "df_plot['diet_2'] = [-2.7435897435897445]\n",
        "df_plot['diet_3'] = [-4.357692307692307]\n",
        "\n",
        "df_plot.plot.bar(title=\"Average Treatment Effect of Diets on Weight after 6 Weeks\")\n",
        "plt.ylabel('ATE')\n",
        "plt.legend()"
      ]
    },
    {
      "cell_type": "markdown",
      "id": "5dd13a59",
      "metadata": {
        "id": "5dd13a59"
      },
      "source": [
        "## 3. Counterfactual Analysis"
      ]
    },
    {
      "cell_type": "code",
      "execution_count": null,
      "id": "ab72329f",
      "metadata": {
        "id": "ab72329f"
      },
      "outputs": [],
      "source": [
        "def evaluating_causal_structure(graph, dataframe):\n",
        "    causal_model = gcm.InvertibleStructuralCausalModel(graph)\n",
        "    gcm.auto.assign_causal_mechanisms(causal_model, dataframe)\n",
        "    gcm.fit(causal_model, dataframe)\n",
        "    print(gcm.evaluate_causal_model(causal_model, dataframe, evaluate_causal_structure=True))\n",
        "    return causal_model"
      ]
    },
    {
      "cell_type": "code",
      "execution_count": null,
      "id": "d496b210",
      "metadata": {
        "id": "d496b210",
        "outputId": "b028966d-1d50-475c-f241-c228ff2448d1"
      },
      "outputs": [
        {
          "name": "stderr",
          "output_type": "stream",
          "text": [
            "Fitting causal mechanism of node diet: 100%|██████| 5/5 [00:00<00:00, 22.09it/s]\n",
            "Evaluating causal mechanisms...: 100%|██████████| 5/5 [00:00<00:00, 1565.39it/s]\n",
            "Test permutations of given graph: 100%|█████████| 50/50 [00:00<00:00, 97.89it/s]\n"
          ]
        },
        {
          "data": {
            "image/png": "[encoded data removed]",
            "text/plain": [
              "<Figure size 800x300 with 1 Axes>"
            ]
          },
          "metadata": {},
          "output_type": "display_data"
        },
        {
          "name": "stdout",
          "output_type": "stream",
          "text": [
            "Evaluated the performance of the causal mechanisms and the invertibility assumption of the causal mechanisms and the overall average KL divergence between generated and observed distribution and the graph structure. The results are as follows:\n",
            "\n",
            "==== Evaluation of Causal Mechanisms ====\n",
            "The used evaluation metrics are:\n",
            "- KL divergence (only for root-nodes): Evaluates the divergence between the generated and the observed distribution.\n",
            "- Mean Squared Error (MSE): Evaluates the average squared differences between the observed values and the conditional expectation of the causal mechanisms.\n",
            "- Normalized MSE (NMSE): The MSE normalized by the standard deviation for better comparison.\n",
            "- R2 coefficient: Indicates how much variance is explained by the conditional expectations of the mechanisms. Note, however, that this can be misleading for nonlinear relationships.\n",
            "- F1 score (only for categorical non-root nodes): The harmonic mean of the precision and recall indicating the goodness of the underlying classifier model.\n",
            "- (normalized) Continuous Ranked Probability Score (CRPS): The CRPS generalizes the Mean Absolute Percentage Error to probabilistic predictions. This gives insights into the accuracy and calibration of the causal mechanisms.\n",
            "NOTE: Every metric focuses on different aspects and they might not consistently indicate a good or bad performance.\n",
            "We will mostly utilize the CRPS for comparing and interpreting the performance of the mechanisms, since this captures the most important properties for the causal model.\n",
            "\n",
            "--- Node age\n",
            "- The KL divergence between generated and observed distribution is 0.0.\n",
            "The estimated KL divergence indicates an overall very good representation of the data distribution.\n",
            "\n",
            "--- Node gender\n",
            "- The KL divergence between generated and observed distribution is 0.0.\n",
            "The estimated KL divergence indicates an overall very good representation of the data distribution.\n",
            "\n",
            "--- Node diet\n",
            "- The MSE is 0.6583333333333333.\n",
            "- The NMSE is 1.0142987045268403.\n",
            "- The R2 coefficient is -0.028954808632227946.\n",
            "- The normalized CRPS is 0.5668164582573841.\n",
            "The estimated CRPS indicates only a fair model performance. Note, however, that a high CRPS could also result from a small signal to noise ratio.\n",
            "\n",
            "--- Node start_weight\n",
            "- The MSE is 47.1625.\n",
            "- The NMSE is 0.7916623637592183.\n",
            "- The R2 coefficient is 0.3616160268299649.\n",
            "- The normalized CRPS is 0.43631670319368165.\n",
            "The estimated CRPS indicates only a fair model performance. Note, however, that a high CRPS could also result from a small signal to noise ratio.\n",
            "\n",
            "--- Node weight_in_6_weeks\n",
            "- The MSE is 6.974378413715115.\n",
            "- The NMSE is 0.32411630717553136.\n",
            "- The R2 coefficient is 0.891351818641261.\n",
            "- The normalized CRPS is 0.18808584838616732.\n",
            "The estimated CRPS indicates a very good model performance.\n",
            "\n",
            "==== Evaluation of Invertible Functional Causal Model Assumption ====\n",
            "\n",
            "--- The model assumption for node start_weight is not rejected with a p-value of 1.0 (after potential adjustment) and a significance level of 0.05.\n",
            "This implies that the model assumption might be valid.\n",
            "\n",
            "--- The model assumption for node weight_in_6_weeks is not rejected with a p-value of 1.0 (after potential adjustment) and a significance level of 0.05.\n",
            "This implies that the model assumption might be valid.\n",
            "\n",
            "--- The model assumption for node diet is not rejected with a p-value of 1.0 (after potential adjustment) and a significance level of 0.05.\n",
            "This implies that the model assumption might be valid.\n",
            "\n",
            "Note that these results are based on statistical independence tests, and the fact that the assumption was not rejected does not necessarily imply that it is correct. There is just no evidence against it.\n",
            "\n",
            "==== Evaluation of Generated Distribution ====\n",
            "The overall average KL divergence between the generated and observed distribution is 0.4589003558654735\n",
            "The estimated KL divergence indicates an overall very good representation of the data distribution.\n",
            "\n",
            "==== Evaluation of the Causal Graph Structure ====\n",
            "+-------------------------------------------------------------------------------------------------------+\n",
            "|                                         Falsificaton Summary                                          |\n",
            "+-------------------------------------------------------------------------------------------------------+\n",
            "| The given DAG is informative because 1 / 50 of the permutations lie in the Markov                     |\n",
            "| equivalence class of the given DAG (p-value: 0.02).                                                   |\n",
            "| The given DAG violates 0/6 LMCs and is better than 86.0% of the permuted DAGs (p-value: 0.14).        |\n",
            "| Based on the provided significance level (0.2) and because the DAG is informative,                    |\n",
            "| we do not reject the DAG.                                                                             |\n",
            "+-------------------------------------------------------------------------------------------------------+\n",
            "\n",
            "==== NOTE ====\n",
            "Always double check the made model assumptions with respect to the graph structure and choice of causal mechanisms.\n",
            "All these evaluations give some insight into the goodness of the causal model, but should not be overinterpreted, since some causal relationships can be intrinsically hard to model. Furthermore, many algorithms are fairly robust against misspecifications or poor performances of causal mechanisms.\n"
          ]
        }
      ],
      "source": [
        "causal_model_14 = evaluating_causal_structure(graph_14, food_diet)"
      ]
    },
    {
      "cell_type": "markdown",
      "id": "b5ac65d7",
      "metadata": {
        "id": "b5ac65d7"
      },
      "source": [
        "As we can see, this model is not rejected by the doWhy rigurous causal structure evaluation metrics, so we might be one the right path here... Luckily, our dataset doesn't have any missing values. Therefore, I'm going to modify it a little bit in order to demonstrate the concept of imputation via counterfactual analysis."
      ]
    },
    {
      "cell_type": "code",
      "execution_count": null,
      "id": "f5a04244",
      "metadata": {
        "id": "f5a04244"
      },
      "outputs": [],
      "source": [
        "food_diet_cfs = food_diet.copy()"
      ]
    },
    {
      "cell_type": "code",
      "execution_count": null,
      "id": "d583ce82",
      "metadata": {
        "id": "d583ce82"
      },
      "outputs": [],
      "source": [
        "weight_in_6_weeks_diet_1 = []\n",
        "weight_in_6_weeks_diet_2 = []\n",
        "weight_in_6_weeks_diet_3 = []\n",
        "\n",
        "for i in range(len(food_diet_cfs)):\n",
        "    weight_in_6_weeks_diet_1.append(food_diet_cfs.weight_in_6_weeks[i] if food_diet_cfs.diet[i] == 1 else np.nan)\n",
        "    weight_in_6_weeks_diet_2.append(food_diet_cfs.weight_in_6_weeks[i] if food_diet_cfs.diet[i] == 2 else np.nan)\n",
        "    weight_in_6_weeks_diet_3.append(food_diet_cfs.weight_in_6_weeks[i] if food_diet_cfs.diet[i] == 3 else np.nan)\n",
        "\n",
        "food_diet_cfs['weight_in_6_weeks_diet_1'] = weight_in_6_weeks_diet_1\n",
        "food_diet_cfs['weight_in_6_weeks_diet_2'] = weight_in_6_weeks_diet_2\n",
        "food_diet_cfs['weight_in_6_weeks_diet_3'] = weight_in_6_weeks_diet_3\n",
        "food_diet_cfs = food_diet_cfs.drop(columns='weight_in_6_weeks')"
      ]
    },
    {
      "cell_type": "code",
      "execution_count": null,
      "id": "ae5793b3",
      "metadata": {
        "id": "ae5793b3",
        "outputId": "241f7865-265d-4d3e-83eb-51135bc81e7a"
      },
      "outputs": [
        {
          "data": {
            "text/html": [
              "<div>\n",
              "<style scoped>\n",
              "    .dataframe tbody tr th:only-of-type {\n",
              "        vertical-align: middle;\n",
              "    }\n",
              "\n",
              "    .dataframe tbody tr th {\n",
              "        vertical-align: top;\n",
              "    }\n",
              "\n",
              "    .dataframe thead th {\n",
              "        text-align: right;\n",
              "    }\n",
              "</style>\n",
              "<table border=\"1\" class=\"dataframe\">\n",
              "  <thead>\n",
              "    <tr style=\"text-align: right;\">\n",
              "      <th></th>\n",
              "      <th>gender</th>\n",
              "      <th>age</th>\n",
              "      <th>diet</th>\n",
              "      <th>start_weight</th>\n",
              "      <th>weight_in_6_weeks_diet_1</th>\n",
              "      <th>weight_in_6_weeks_diet_2</th>\n",
              "      <th>weight_in_6_weeks_diet_3</th>\n",
              "    </tr>\n",
              "  </thead>\n",
              "  <tbody>\n",
              "    <tr>\n",
              "      <th>0</th>\n",
              "      <td>0</td>\n",
              "      <td>2</td>\n",
              "      <td>2</td>\n",
              "      <td>60</td>\n",
              "      <td>NaN</td>\n",
              "      <td>60.0</td>\n",
              "      <td>NaN</td>\n",
              "    </tr>\n",
              "    <tr>\n",
              "      <th>1</th>\n",
              "      <td>0</td>\n",
              "      <td>2</td>\n",
              "      <td>2</td>\n",
              "      <td>103</td>\n",
              "      <td>NaN</td>\n",
              "      <td>103.0</td>\n",
              "      <td>NaN</td>\n",
              "    </tr>\n",
              "    <tr>\n",
              "      <th>2</th>\n",
              "      <td>0</td>\n",
              "      <td>1</td>\n",
              "      <td>1</td>\n",
              "      <td>58</td>\n",
              "      <td>54.2</td>\n",
              "      <td>NaN</td>\n",
              "      <td>NaN</td>\n",
              "    </tr>\n",
              "    <tr>\n",
              "      <th>3</th>\n",
              "      <td>0</td>\n",
              "      <td>3</td>\n",
              "      <td>1</td>\n",
              "      <td>60</td>\n",
              "      <td>54.0</td>\n",
              "      <td>NaN</td>\n",
              "      <td>NaN</td>\n",
              "    </tr>\n",
              "    <tr>\n",
              "      <th>4</th>\n",
              "      <td>0</td>\n",
              "      <td>3</td>\n",
              "      <td>1</td>\n",
              "      <td>64</td>\n",
              "      <td>63.3</td>\n",
              "      <td>NaN</td>\n",
              "      <td>NaN</td>\n",
              "    </tr>\n",
              "    <tr>\n",
              "      <th>5</th>\n",
              "      <td>0</td>\n",
              "      <td>2</td>\n",
              "      <td>1</td>\n",
              "      <td>64</td>\n",
              "      <td>61.1</td>\n",
              "      <td>NaN</td>\n",
              "      <td>NaN</td>\n",
              "    </tr>\n",
              "    <tr>\n",
              "      <th>6</th>\n",
              "      <td>0</td>\n",
              "      <td>3</td>\n",
              "      <td>1</td>\n",
              "      <td>65</td>\n",
              "      <td>62.2</td>\n",
              "      <td>NaN</td>\n",
              "      <td>NaN</td>\n",
              "    </tr>\n",
              "    <tr>\n",
              "      <th>7</th>\n",
              "      <td>0</td>\n",
              "      <td>3</td>\n",
              "      <td>1</td>\n",
              "      <td>66</td>\n",
              "      <td>64.0</td>\n",
              "      <td>NaN</td>\n",
              "      <td>NaN</td>\n",
              "    </tr>\n",
              "    <tr>\n",
              "      <th>8</th>\n",
              "      <td>0</td>\n",
              "      <td>2</td>\n",
              "      <td>1</td>\n",
              "      <td>67</td>\n",
              "      <td>65.0</td>\n",
              "      <td>NaN</td>\n",
              "      <td>NaN</td>\n",
              "    </tr>\n",
              "    <tr>\n",
              "      <th>9</th>\n",
              "      <td>0</td>\n",
              "      <td>1</td>\n",
              "      <td>1</td>\n",
              "      <td>69</td>\n",
              "      <td>60.5</td>\n",
              "      <td>NaN</td>\n",
              "      <td>NaN</td>\n",
              "    </tr>\n",
              "    <tr>\n",
              "      <th>10</th>\n",
              "      <td>0</td>\n",
              "      <td>1</td>\n",
              "      <td>1</td>\n",
              "      <td>70</td>\n",
              "      <td>68.1</td>\n",
              "      <td>NaN</td>\n",
              "      <td>NaN</td>\n",
              "    </tr>\n",
              "  </tbody>\n",
              "</table>\n",
              "</div>"
            ],
            "text/plain": [
              "    gender age  diet  start_weight  weight_in_6_weeks_diet_1  \\\n",
              "0        0   2     2            60                       NaN   \n",
              "1        0   2     2           103                       NaN   \n",
              "2        0   1     1            58                      54.2   \n",
              "3        0   3     1            60                      54.0   \n",
              "4        0   3     1            64                      63.3   \n",
              "5        0   2     1            64                      61.1   \n",
              "6        0   3     1            65                      62.2   \n",
              "7        0   3     1            66                      64.0   \n",
              "8        0   2     1            67                      65.0   \n",
              "9        0   1     1            69                      60.5   \n",
              "10       0   1     1            70                      68.1   \n",
              "\n",
              "    weight_in_6_weeks_diet_2  weight_in_6_weeks_diet_3  \n",
              "0                       60.0                       NaN  \n",
              "1                      103.0                       NaN  \n",
              "2                        NaN                       NaN  \n",
              "3                        NaN                       NaN  \n",
              "4                        NaN                       NaN  \n",
              "5                        NaN                       NaN  \n",
              "6                        NaN                       NaN  \n",
              "7                        NaN                       NaN  \n",
              "8                        NaN                       NaN  \n",
              "9                        NaN                       NaN  \n",
              "10                       NaN                       NaN  "
            ]
          },
          "execution_count": 32,
          "metadata": {},
          "output_type": "execute_result"
        }
      ],
      "source": [
        "food_diet_cfs.head(11)"
      ]
    },
    {
      "cell_type": "code",
      "execution_count": null,
      "id": "d72de07a",
      "metadata": {
        "id": "d72de07a",
        "outputId": "c2c21eaf-567e-4555-af6f-9a8d4c2f328d"
      },
      "outputs": [
        {
          "data": {
            "text/html": [
              "<div>\n",
              "<style scoped>\n",
              "    .dataframe tbody tr th:only-of-type {\n",
              "        vertical-align: middle;\n",
              "    }\n",
              "\n",
              "    .dataframe tbody tr th {\n",
              "        vertical-align: top;\n",
              "    }\n",
              "\n",
              "    .dataframe thead th {\n",
              "        text-align: right;\n",
              "    }\n",
              "</style>\n",
              "<table border=\"1\" class=\"dataframe\">\n",
              "  <thead>\n",
              "    <tr style=\"text-align: right;\">\n",
              "      <th></th>\n",
              "      <th>gender</th>\n",
              "      <th>age</th>\n",
              "      <th>diet</th>\n",
              "      <th>start_weight</th>\n",
              "      <th>weight_in_6_weeks_diet_1</th>\n",
              "      <th>weight_in_6_weeks_diet_2</th>\n",
              "      <th>weight_in_6_weeks_diet_3</th>\n",
              "    </tr>\n",
              "  </thead>\n",
              "  <tbody>\n",
              "    <tr>\n",
              "      <th>0</th>\n",
              "      <td>0</td>\n",
              "      <td>2</td>\n",
              "      <td>2</td>\n",
              "      <td>60</td>\n",
              "      <td>60.926096</td>\n",
              "      <td>60.000000</td>\n",
              "      <td>59.073904</td>\n",
              "    </tr>\n",
              "    <tr>\n",
              "      <th>1</th>\n",
              "      <td>0</td>\n",
              "      <td>2</td>\n",
              "      <td>2</td>\n",
              "      <td>103</td>\n",
              "      <td>103.926096</td>\n",
              "      <td>103.000000</td>\n",
              "      <td>102.073904</td>\n",
              "    </tr>\n",
              "    <tr>\n",
              "      <th>2</th>\n",
              "      <td>0</td>\n",
              "      <td>1</td>\n",
              "      <td>1</td>\n",
              "      <td>58</td>\n",
              "      <td>54.200000</td>\n",
              "      <td>53.273904</td>\n",
              "      <td>52.347807</td>\n",
              "    </tr>\n",
              "    <tr>\n",
              "      <th>3</th>\n",
              "      <td>0</td>\n",
              "      <td>3</td>\n",
              "      <td>1</td>\n",
              "      <td>60</td>\n",
              "      <td>54.000000</td>\n",
              "      <td>53.073904</td>\n",
              "      <td>52.147807</td>\n",
              "    </tr>\n",
              "    <tr>\n",
              "      <th>4</th>\n",
              "      <td>0</td>\n",
              "      <td>3</td>\n",
              "      <td>1</td>\n",
              "      <td>64</td>\n",
              "      <td>63.300000</td>\n",
              "      <td>62.373904</td>\n",
              "      <td>61.447807</td>\n",
              "    </tr>\n",
              "    <tr>\n",
              "      <th>5</th>\n",
              "      <td>0</td>\n",
              "      <td>2</td>\n",
              "      <td>1</td>\n",
              "      <td>64</td>\n",
              "      <td>61.100000</td>\n",
              "      <td>60.173904</td>\n",
              "      <td>59.247807</td>\n",
              "    </tr>\n",
              "    <tr>\n",
              "      <th>6</th>\n",
              "      <td>0</td>\n",
              "      <td>3</td>\n",
              "      <td>1</td>\n",
              "      <td>65</td>\n",
              "      <td>62.200000</td>\n",
              "      <td>61.273904</td>\n",
              "      <td>60.347807</td>\n",
              "    </tr>\n",
              "    <tr>\n",
              "      <th>7</th>\n",
              "      <td>0</td>\n",
              "      <td>3</td>\n",
              "      <td>1</td>\n",
              "      <td>66</td>\n",
              "      <td>64.000000</td>\n",
              "      <td>63.073904</td>\n",
              "      <td>62.147807</td>\n",
              "    </tr>\n",
              "    <tr>\n",
              "      <th>8</th>\n",
              "      <td>0</td>\n",
              "      <td>2</td>\n",
              "      <td>1</td>\n",
              "      <td>67</td>\n",
              "      <td>65.000000</td>\n",
              "      <td>64.073904</td>\n",
              "      <td>63.147807</td>\n",
              "    </tr>\n",
              "    <tr>\n",
              "      <th>9</th>\n",
              "      <td>0</td>\n",
              "      <td>1</td>\n",
              "      <td>1</td>\n",
              "      <td>69</td>\n",
              "      <td>60.500000</td>\n",
              "      <td>59.573904</td>\n",
              "      <td>58.647807</td>\n",
              "    </tr>\n",
              "    <tr>\n",
              "      <th>10</th>\n",
              "      <td>0</td>\n",
              "      <td>1</td>\n",
              "      <td>1</td>\n",
              "      <td>70</td>\n",
              "      <td>68.100000</td>\n",
              "      <td>67.173904</td>\n",
              "      <td>66.247807</td>\n",
              "    </tr>\n",
              "  </tbody>\n",
              "</table>\n",
              "</div>"
            ],
            "text/plain": [
              "    gender age  diet  start_weight  weight_in_6_weeks_diet_1  \\\n",
              "0        0   2     2            60                 60.926096   \n",
              "1        0   2     2           103                103.926096   \n",
              "2        0   1     1            58                 54.200000   \n",
              "3        0   3     1            60                 54.000000   \n",
              "4        0   3     1            64                 63.300000   \n",
              "5        0   2     1            64                 61.100000   \n",
              "6        0   3     1            65                 62.200000   \n",
              "7        0   3     1            66                 64.000000   \n",
              "8        0   2     1            67                 65.000000   \n",
              "9        0   1     1            69                 60.500000   \n",
              "10       0   1     1            70                 68.100000   \n",
              "\n",
              "    weight_in_6_weeks_diet_2  weight_in_6_weeks_diet_3  \n",
              "0                  60.000000                 59.073904  \n",
              "1                 103.000000                102.073904  \n",
              "2                  53.273904                 52.347807  \n",
              "3                  53.073904                 52.147807  \n",
              "4                  62.373904                 61.447807  \n",
              "5                  60.173904                 59.247807  \n",
              "6                  61.273904                 60.347807  \n",
              "7                  63.073904                 62.147807  \n",
              "8                  64.073904                 63.147807  \n",
              "9                  59.573904                 58.647807  \n",
              "10                 67.173904                 66.247807  "
            ]
          },
          "execution_count": 33,
          "metadata": {},
          "output_type": "execute_result"
        }
      ],
      "source": [
        "weight_diet_1 = np.nan_to_num(food_diet_cfs.weight_in_6_weeks_diet_1)\n",
        "weight_diet_2 = np.nan_to_num(food_diet_cfs.weight_in_6_weeks_diet_2)\n",
        "weight_diet_3 = np.nan_to_num(food_diet_cfs.weight_in_6_weeks_diet_3)\n",
        "\n",
        "for i in range(len(food_diet)):\n",
        "\n",
        "    obs_data = food_diet[i:i+1]\n",
        "\n",
        "    if food_diet.diet[i] == 1:\n",
        "        counterfactual_data2 = gcm.counterfactual_samples(causal_model_14,\n",
        "                                                  {'diet': lambda x: 2},\n",
        "                                                  observed_data = obs_data)\n",
        "\n",
        "        counterfactual_data3 = gcm.counterfactual_samples(causal_model_14,\n",
        "                                                  {'diet': lambda x: 3},\n",
        "                                                  observed_data = obs_data)\n",
        "\n",
        "        weight_diet_2[i] = counterfactual_data2['weight_in_6_weeks']\n",
        "        weight_diet_3[i] = counterfactual_data3['weight_in_6_weeks']\n",
        "\n",
        "    elif food_diet.diet[i] == 2:\n",
        "        counterfactual_data1 = gcm.counterfactual_samples(causal_model_14,\n",
        "                                                  {'diet': lambda x: 1},\n",
        "                                                  observed_data = obs_data)\n",
        "\n",
        "        counterfactual_data3 = gcm.counterfactual_samples(causal_model_14,\n",
        "                                                  {'diet': lambda x: 3},\n",
        "                                                  observed_data = obs_data)\n",
        "\n",
        "        weight_diet_1[i] = counterfactual_data1['weight_in_6_weeks']\n",
        "        weight_diet_3[i] = counterfactual_data3['weight_in_6_weeks']\n",
        "\n",
        "    elif food_diet.diet[i] == 3:\n",
        "        counterfactual_data1 = gcm.counterfactual_samples(causal_model_14,\n",
        "                                                  {'diet': lambda x: 1},\n",
        "                                                  observed_data = obs_data)\n",
        "\n",
        "        counterfactual_data2 = gcm.counterfactual_samples(causal_model_14,\n",
        "                                                  {'diet': lambda x: 2},\n",
        "                                                  observed_data = obs_data)\n",
        "\n",
        "        weight_diet_1[i] = counterfactual_data1['weight_in_6_weeks']\n",
        "        weight_diet_2[i] = counterfactual_data2['weight_in_6_weeks']\n",
        "\n",
        "food_diet_cfs['weight_in_6_weeks_diet_1'] = weight_diet_1\n",
        "food_diet_cfs['weight_in_6_weeks_diet_2'] = weight_diet_2\n",
        "food_diet_cfs['weight_in_6_weeks_diet_3'] = weight_diet_3\n",
        "\n",
        "food_diet_cfs.head(11)"
      ]
    },
    {
      "cell_type": "code",
      "execution_count": null,
      "id": "a1aa96fa",
      "metadata": {
        "id": "a1aa96fa"
      },
      "outputs": [],
      "source": []
    }
  ],
  "metadata": {
    "kernelspec": {
      "display_name": "Python 3 (ipykernel)",
      "language": "python",
      "name": "python3"
    },
    "language_info": {
      "codemirror_mode": {
        "name": "ipython",
        "version": 3
      },
      "file_extension": ".py",
      "mimetype": "text/x-python",
      "name": "python",
      "nbconvert_exporter": "python",
      "pygments_lexer": "ipython3",
      "version": "3.8.17"
    },
    "colab": {
      "provenance": [],
      "toc_visible": true,
      "include_colab_link": true
    }
  },
  "nbformat": 4,
  "nbformat_minor": 5
}